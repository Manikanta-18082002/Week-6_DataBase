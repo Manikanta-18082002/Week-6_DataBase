{
 "cells": [
  {
   "cell_type": "markdown",
   "id": "1ebf2294",
   "metadata": {},
   "source": [
    "Q1. What is a database? Differentiate between SQL and NoSQL databases."
   ]
  },
  {
   "cell_type": "markdown",
   "id": "0f7934ce",
   "metadata": {},
   "source": [
    "### Database:\n",
    "A database is a structured collection of data that is organized and stored in a way that allows for efficient retrieval, updating, and management of that data.\n",
    "\n",
    "#### SQL\t\n",
    "* RELATIONAL DATABASE MANAGEMENT SYSTEM (RDBMS)\t\n",
    "* These databases have fixed schema\t\n",
    "* These databases are not suited for hierarchical data storage.\t(designed primarily for tabular data not inherently optimized )\n",
    "* These databases are best suited for complex queries\t\n",
    "* Vertically Scalable\t\n",
    "* Follows ACID property\t\n",
    "* Examples: MySQL, PostgreSQL, Oracle, MS-SQL Server, etc\t\n",
    "\n",
    "\n",
    "#### NoSQL\n",
    "* Non-relational or distributed database system.\n",
    "* They have a dynamic schema\n",
    "* These databases are best suited for hierarchical data storage.\n",
    "* These databases are not so good for complex queries\n",
    "* Horizontally scalable\n",
    "* Follows CAP(consistency, availability, partition tolerance)\n",
    "* Examples: MongoDB, HBase, Neo4j, Cassandra, etc"
   ]
  },
  {
   "cell_type": "code",
   "execution_count": null,
   "id": "be2021ef",
   "metadata": {},
   "outputs": [],
   "source": []
  },
  {
   "cell_type": "markdown",
   "id": "761efce2",
   "metadata": {},
   "source": [
    "Q2. What is DDL? Explain why CREATE, DROP, ALTER, and TRUNCATE are used with an example."
   ]
  },
  {
   "cell_type": "markdown",
   "id": "3a503c8e",
   "metadata": {},
   "source": [
    "# DDL: \n",
    "Data Definition Language\n",
    "is a subset of SQL (Structured Query Language) used for defining and managing the structure of database objects. DDL commands are used to create, modify, and delete database objects such as tables, indexes, and schemas. \n",
    "\n",
    "#### CREATE:\n",
    "The CREATE command is used to create new database objects like tables, indexes, or views.\n",
    "\n",
    "\n",
    "1. CREATE TABLE employees (\n",
    "2.   employee_id INT PRIMARY KEY,\n",
    "3.    first_name VARCHAR(50),\n",
    "4.    last_name VARCHAR(50),\n",
    "5. );\n",
    "\n",
    "#### DROP:\n",
    "The DROP command is used to delete existing database objects, such as tables or indexes.\n",
    "1. DROP TABLE employees;\n",
    "\n",
    "\n",
    "#### ALTER: \n",
    "The ALTER command is used to modify the structure of an existing database object, like adding or deleting columns from a table.\n",
    "1. ALTER TABLE employees\n",
    "2. ADD email VARCHAR(100);\n",
    "\n",
    "#### TRUNCATE:\n",
    "The TRUNCATE command is used to remove all data from a table but keep the table structure intact. It is faster than the DELETE statement for removing all records.\n",
    "\n",
    "TRUNCATE TABLE employees;\n"
   ]
  },
  {
   "cell_type": "markdown",
   "id": "6608c559",
   "metadata": {},
   "source": [
    "<!--  CREATE TABLE employees (\n",
    "    employee_id INT PRIMARY KEY,\n",
    "    first_name VARCHAR(50),\n",
    "    last_name VARCHAR(50),\n",
    "    hire_date DATE\n",
    "); -->"
   ]
  },
  {
   "cell_type": "markdown",
   "id": "78affd2e",
   "metadata": {},
   "source": [
    "."
   ]
  },
  {
   "cell_type": "markdown",
   "id": "05582366",
   "metadata": {},
   "source": [
    "Q3. What is DML? Explain INSERT, UPDATE, and DELETE with an example."
   ]
  },
  {
   "cell_type": "markdown",
   "id": "da9b5523",
   "metadata": {},
   "source": [
    "###  DML\n",
    "Data Manupulation Language used for manipulating data stored in a database. DML commands are used to add, modify, and delete data in database tables. \n",
    "\n",
    "#### INSERT:\n",
    "The INSERT command is used to add new rows of data into a database table.\n",
    "\n",
    "1. INSERT INTO employees (employee_id, first_name, last_name)\n",
    "2. VALUES (1, 'Mani', 'Kanta');\n",
    "\n",
    "\n",
    "\n",
    "#### UPDATE:\n",
    "The UPDATE command is used to modify existing data in a database table.\n",
    "\n",
    "1. UPDATE employees\n",
    "2. SET first_name = 'Jagan'\n",
    "3. WHERE employee_id = 1;\n",
    "\n",
    "#### DELETE:\n",
    "The DELETE command is used to remove rows from a database table based on specified conditions.\n",
    "\n",
    "1. DELETE FROM employees\n",
    "2. WHERE employee_id = 1;\n"
   ]
  },
  {
   "cell_type": "code",
   "execution_count": null,
   "id": "c562e638",
   "metadata": {},
   "outputs": [],
   "source": []
  },
  {
   "cell_type": "markdown",
   "id": "102d22df",
   "metadata": {},
   "source": [
    "Q4. What is DQL? Explain SELECT with an example."
   ]
  },
  {
   "cell_type": "markdown",
   "id": "f1e6e266",
   "metadata": {},
   "source": [
    "### DQL \n",
    "Data Query Language used for retrieving and querying data from a database. DQL commands are primarily focused on selecting and retrieving data from one or more database tables.\n",
    "The most common DQL command is SELECT\n",
    "\n",
    "\n",
    "1. SELECT first_name, last_name\n",
    "2. FROM employees\n",
    "3. WHERE department = 'Sales';"
   ]
  },
  {
   "cell_type": "code",
   "execution_count": null,
   "id": "02990290",
   "metadata": {},
   "outputs": [],
   "source": []
  },
  {
   "cell_type": "markdown",
   "id": "702be7e4",
   "metadata": {},
   "source": [
    "Q5. Explain Primary Key and Foreign Key."
   ]
  },
  {
   "cell_type": "markdown",
   "id": "474db064",
   "metadata": {},
   "source": [
    "### Primary Key:\n",
    "1. A Primary Key is a column or set of columns in a database table that uniquely identifies each row or record in that table.\n",
    "2. It ensures that each row has a unique identifier, and no two rows can have the same primary key value.\n",
    "3. Primary keys are used for data integrity, indexing, and as a reference for relationships with other tables.\n",
    "\n",
    "\n",
    "### Foreign Key:\n",
    "\n",
    "1. A Foreign Key is a column or set of columns in a database table that establishes a link between data in two tables.\n",
    "2. It creates a relationship between tables by referencing the primary key of another table.\n",
    "3. Foreign keys are used to enforce referential integrity and maintain relationships between related tables."
   ]
  },
  {
   "cell_type": "code",
   "execution_count": null,
   "id": "56a673eb",
   "metadata": {},
   "outputs": [],
   "source": []
  },
  {
   "cell_type": "markdown",
   "id": "ab789c0a",
   "metadata": {},
   "source": [
    "Q6. Write a python code to connect MySQL to python. Explain the cursor() and execute() method."
   ]
  },
  {
   "cell_type": "markdown",
   "id": "7e5769f0",
   "metadata": {},
   "source": [
    "By using the mysql-connector-python library, which provides a Python interface for MySQL. We need to install the library using pip if haven't already installed:\n",
    "\n",
    "pip install mysql-connector-python\n",
    "\n",
    "1. import mysql.connector\n",
    "2. connection = mysql.connector.connect( # Establishing a connection to the MySQL database\n",
    "3.     host=\"hostname\",\n",
    "4.     user=\"abc\",\n",
    "5.     password=\"password\",\n",
    "6.     database=\"database\"\n",
    "7. )\n",
    "8. \n",
    "9. cursor = connection.cursor() # Create a cursor object\n",
    "10. query = \"SELECT * FROM your_table\"\n",
    "11. cursor.execute(query)\n",
    "12. \n",
    "13. for row in cursor.fetchall(): # Fetch and print the results\n",
    "14.     print(row)\n",
    "15.     \n",
    "16. cursor.close()# Close the cursor and the database connection\n",
    "17. connection.close()\n",
    "\n",
    "\n",
    "### cursor():\n",
    "The cursor() method is used to create a cursor object. A cursor is used to execute SQL queries and fetch data from the database. It acts as a pointer or iterator to navigate through the query results.\n",
    "\n",
    "### execute():\n",
    "The execute() method is used to execute an SQL query that you pass as a string. It sends the query to the MySQL database for execution. After executing the query, we can use the cursor to fetch and iterate through the results.\n",
    "\n"
   ]
  },
  {
   "cell_type": "code",
   "execution_count": null,
   "id": "c984a7a1",
   "metadata": {},
   "outputs": [],
   "source": []
  },
  {
   "cell_type": "markdown",
   "id": "805a830e",
   "metadata": {},
   "source": [
    "Q7. Give the order of execution of SQL clauses in an SQL query."
   ]
  },
  {
   "cell_type": "markdown",
   "id": "7890da69",
   "metadata": {},
   "source": [
    "FROM: This clause specifies the table from which data should be retrieved. It's the first clause processed.\n",
    "\n",
    "WHERE: The WHERE clause filters the rows from the tables specified in the FROM clause. It defines the conditions that must be met for a row to be included in the result set.\n",
    "\n",
    "GROUP BY: If specified, the GROUP BY clause groups the rows that have the same values in specified columns into summary rows.\n",
    "\n",
    "HAVING: The HAVING clause filters the grouped rows produced by the GROUP BY clause. It defines conditions that must be met for a group to be included in the result set.\n",
    "\n",
    "SELECT: The SELECT clause determines which columns or expressions should be included in the result set. It is processed after filtering and grouping.\n",
    "\n",
    "DISTINCT: If the DISTINCT keyword is used, duplicate rows are removed from the result set. This is processed after the SELECT clause.\n",
    "\n",
    "ORDER BY: The ORDER BY clause sorts the rows in the result set based on specified columns or expressions. It's processed after all the previous clauses.\n",
    "\n",
    "LIMIT/OFFSET: The LIMIT and OFFSET clauses are used for pagination and control the number of rows returned and the starting point in the result set. They are processed last, after sorting.\n",
    "\n"
   ]
  },
  {
   "cell_type": "code",
   "execution_count": null,
   "id": "12601d7f",
   "metadata": {},
   "outputs": [],
   "source": []
  }
 ],
 "metadata": {
  "kernelspec": {
   "display_name": "Python 3 (ipykernel)",
   "language": "python",
   "name": "python3"
  },
  "language_info": {
   "codemirror_mode": {
    "name": "ipython",
    "version": 3
   },
   "file_extension": ".py",
   "mimetype": "text/x-python",
   "name": "python",
   "nbconvert_exporter": "python",
   "pygments_lexer": "ipython3",
   "version": "3.11.4"
  }
 },
 "nbformat": 4,
 "nbformat_minor": 5
}
